{
 "cells": [
  {
   "cell_type": "code",
   "execution_count": 1,
   "id": "2965af9a",
   "metadata": {
    "scrolled": true
   },
   "outputs": [],
   "source": [
    "%matplotlib inline\n",
    "import os\n",
    "import random\n",
    "import numpy as np\n",
    "import pandas as pd\n",
    "import matplotlib.pyplot as plt\n",
    "plt.style.use('ggplot')\n",
    "import seaborn as sns\n",
    "from tqdm import tqdm_notebook as tqdm\n",
    "from keras.models import Model\n",
    "from keras.layers import Input, Reshape\n",
    "from keras.layers.core import Dense, Activation, Dropout, Flatten\n",
    "from keras.layers.normalization import BatchNormalization\n",
    "from keras.layers.convolutional import UpSampling1D, Conv1D\n",
    "from keras.layers.advanced_activations import LeakyReLU\n",
    "from keras.optimizers import Adam, SGD\n",
    "from keras.callbacks import TensorBoard\n",
    "\n",
    "from keras.utils.vis_utils import model_to_dot, plot_model\n",
    "from IPython.display import SVG\n",
    "\n",
    "from tensorflow.compat.v1 import ConfigProto\n",
    "from tensorflow.compat.v1 import InteractiveSession\n",
    "\n",
    "config = ConfigProto()\n",
    "config.gpu_options.allow_growth = True\n",
    "session = InteractiveSession(config=config)\n"
   ]
  },
  {
   "cell_type": "code",
   "execution_count": 2,
   "id": "50ec3955",
   "metadata": {
    "scrolled": true
   },
   "outputs": [
    {
     "name": "stdout",
     "output_type": "stream",
     "text": [
      "(1000, 50)\n"
     ]
    },
    {
     "data": {
      "text/html": [
       "<div>\n",
       "<style scoped>\n",
       "    .dataframe tbody tr th:only-of-type {\n",
       "        vertical-align: middle;\n",
       "    }\n",
       "\n",
       "    .dataframe tbody tr th {\n",
       "        vertical-align: top;\n",
       "    }\n",
       "\n",
       "    .dataframe thead th {\n",
       "        text-align: right;\n",
       "    }\n",
       "</style>\n",
       "<table border=\"1\" class=\"dataframe\">\n",
       "  <thead>\n",
       "    <tr style=\"text-align: right;\">\n",
       "      <th></th>\n",
       "      <th>0</th>\n",
       "      <th>1</th>\n",
       "      <th>2</th>\n",
       "      <th>3</th>\n",
       "      <th>4</th>\n",
       "      <th>5</th>\n",
       "      <th>6</th>\n",
       "      <th>7</th>\n",
       "      <th>8</th>\n",
       "      <th>9</th>\n",
       "      <th>...</th>\n",
       "      <th>40</th>\n",
       "      <th>41</th>\n",
       "      <th>42</th>\n",
       "      <th>43</th>\n",
       "      <th>44</th>\n",
       "      <th>45</th>\n",
       "      <th>46</th>\n",
       "      <th>47</th>\n",
       "      <th>48</th>\n",
       "      <th>49</th>\n",
       "    </tr>\n",
       "  </thead>\n",
       "  <tbody>\n",
       "    <tr>\n",
       "      <th>0</th>\n",
       "      <td>-22.492028</td>\n",
       "      <td>-22.892028</td>\n",
       "      <td>-23.292028</td>\n",
       "      <td>-23.692028</td>\n",
       "      <td>-24.092028</td>\n",
       "      <td>-24.492028</td>\n",
       "      <td>-24.892028</td>\n",
       "      <td>-25.292028</td>\n",
       "      <td>-25.692028</td>\n",
       "      <td>-26.092028</td>\n",
       "      <td>...</td>\n",
       "      <td>-38.492028</td>\n",
       "      <td>-38.892028</td>\n",
       "      <td>-39.292028</td>\n",
       "      <td>-39.692028</td>\n",
       "      <td>-40.092028</td>\n",
       "      <td>-40.492028</td>\n",
       "      <td>-40.892028</td>\n",
       "      <td>-41.292028</td>\n",
       "      <td>-41.692028</td>\n",
       "      <td>-42.092028</td>\n",
       "    </tr>\n",
       "    <tr>\n",
       "      <th>1</th>\n",
       "      <td>-98.975727</td>\n",
       "      <td>-99.375727</td>\n",
       "      <td>-99.775727</td>\n",
       "      <td>-100.175727</td>\n",
       "      <td>-100.575727</td>\n",
       "      <td>-100.975727</td>\n",
       "      <td>-101.375727</td>\n",
       "      <td>-101.775727</td>\n",
       "      <td>-102.175727</td>\n",
       "      <td>-102.575727</td>\n",
       "      <td>...</td>\n",
       "      <td>-114.975727</td>\n",
       "      <td>-115.375727</td>\n",
       "      <td>-115.775727</td>\n",
       "      <td>-116.175727</td>\n",
       "      <td>-116.575727</td>\n",
       "      <td>-116.975727</td>\n",
       "      <td>-117.375727</td>\n",
       "      <td>-117.775727</td>\n",
       "      <td>-118.175727</td>\n",
       "      <td>-118.575727</td>\n",
       "    </tr>\n",
       "    <tr>\n",
       "      <th>2</th>\n",
       "      <td>-69.958962</td>\n",
       "      <td>-70.358962</td>\n",
       "      <td>-70.758962</td>\n",
       "      <td>-71.158962</td>\n",
       "      <td>-71.558962</td>\n",
       "      <td>-71.958962</td>\n",
       "      <td>-72.358962</td>\n",
       "      <td>-72.758962</td>\n",
       "      <td>-73.158962</td>\n",
       "      <td>-73.558962</td>\n",
       "      <td>...</td>\n",
       "      <td>-85.958962</td>\n",
       "      <td>-86.358962</td>\n",
       "      <td>-86.758962</td>\n",
       "      <td>-87.158962</td>\n",
       "      <td>-87.558962</td>\n",
       "      <td>-87.958962</td>\n",
       "      <td>-88.358962</td>\n",
       "      <td>-88.758962</td>\n",
       "      <td>-89.158962</td>\n",
       "      <td>-89.558962</td>\n",
       "    </tr>\n",
       "    <tr>\n",
       "      <th>3</th>\n",
       "      <td>-80.868001</td>\n",
       "      <td>-81.268001</td>\n",
       "      <td>-81.668001</td>\n",
       "      <td>-82.068001</td>\n",
       "      <td>-82.468001</td>\n",
       "      <td>-82.868001</td>\n",
       "      <td>-83.268001</td>\n",
       "      <td>-83.668001</td>\n",
       "      <td>-84.068001</td>\n",
       "      <td>-84.468001</td>\n",
       "      <td>...</td>\n",
       "      <td>-96.868001</td>\n",
       "      <td>-97.268001</td>\n",
       "      <td>-97.668001</td>\n",
       "      <td>-98.068001</td>\n",
       "      <td>-98.468001</td>\n",
       "      <td>-98.868001</td>\n",
       "      <td>-99.268001</td>\n",
       "      <td>-99.668001</td>\n",
       "      <td>-100.068001</td>\n",
       "      <td>-100.468001</td>\n",
       "    </tr>\n",
       "    <tr>\n",
       "      <th>4</th>\n",
       "      <td>-103.160613</td>\n",
       "      <td>-103.560613</td>\n",
       "      <td>-103.960613</td>\n",
       "      <td>-104.360613</td>\n",
       "      <td>-104.760613</td>\n",
       "      <td>-105.160613</td>\n",
       "      <td>-105.560613</td>\n",
       "      <td>-105.960613</td>\n",
       "      <td>-106.360613</td>\n",
       "      <td>-106.760613</td>\n",
       "      <td>...</td>\n",
       "      <td>-119.160613</td>\n",
       "      <td>-119.560613</td>\n",
       "      <td>-119.960613</td>\n",
       "      <td>-120.360613</td>\n",
       "      <td>-120.760613</td>\n",
       "      <td>-121.160613</td>\n",
       "      <td>-121.560613</td>\n",
       "      <td>-121.960613</td>\n",
       "      <td>-122.360613</td>\n",
       "      <td>-122.760613</td>\n",
       "    </tr>\n",
       "  </tbody>\n",
       "</table>\n",
       "<p>5 rows × 50 columns</p>\n",
       "</div>"
      ],
      "text/plain": [
       "           0           1           2           3           4           5   \\\n",
       "0  -22.492028  -22.892028  -23.292028  -23.692028  -24.092028  -24.492028   \n",
       "1  -98.975727  -99.375727  -99.775727 -100.175727 -100.575727 -100.975727   \n",
       "2  -69.958962  -70.358962  -70.758962  -71.158962  -71.558962  -71.958962   \n",
       "3  -80.868001  -81.268001  -81.668001  -82.068001  -82.468001  -82.868001   \n",
       "4 -103.160613 -103.560613 -103.960613 -104.360613 -104.760613 -105.160613   \n",
       "\n",
       "           6           7           8           9   ...          40  \\\n",
       "0  -24.892028  -25.292028  -25.692028  -26.092028  ...  -38.492028   \n",
       "1 -101.375727 -101.775727 -102.175727 -102.575727  ... -114.975727   \n",
       "2  -72.358962  -72.758962  -73.158962  -73.558962  ...  -85.958962   \n",
       "3  -83.268001  -83.668001  -84.068001  -84.468001  ...  -96.868001   \n",
       "4 -105.560613 -105.960613 -106.360613 -106.760613  ... -119.160613   \n",
       "\n",
       "           41          42          43          44          45          46  \\\n",
       "0  -38.892028  -39.292028  -39.692028  -40.092028  -40.492028  -40.892028   \n",
       "1 -115.375727 -115.775727 -116.175727 -116.575727 -116.975727 -117.375727   \n",
       "2  -86.358962  -86.758962  -87.158962  -87.558962  -87.958962  -88.358962   \n",
       "3  -97.268001  -97.668001  -98.068001  -98.468001  -98.868001  -99.268001   \n",
       "4 -119.560613 -119.960613 -120.360613 -120.760613 -121.160613 -121.560613   \n",
       "\n",
       "           47          48          49  \n",
       "0  -41.292028  -41.692028  -42.092028  \n",
       "1 -117.775727 -118.175727 -118.575727  \n",
       "2  -88.758962  -89.158962  -89.558962  \n",
       "3  -99.668001 -100.068001 -100.468001  \n",
       "4 -121.960613 -122.360613 -122.760613  \n",
       "\n",
       "[5 rows x 50 columns]"
      ]
     },
     "execution_count": 2,
     "metadata": {},
     "output_type": "execute_result"
    },
    {
     "data": {
      "image/png": "[encoded data removed]",
      "text/plain": [
       "<Figure size 720x576 with 1 Axes>"
      ]
     },
     "metadata": {},
     "output_type": "display_data"
    }
   ],
   "source": [
    "# Function for generating curves with a specified offset\n",
    "from scipy.stats import gamma\n",
    "import math\n",
    "def generate_data(n=20000, x_vals=np.arange(0, 10, .2), max_offset=100, mul_range=[1, 30]):\n",
    "    #max_offset=100\n",
    "    vectors = []\n",
    "    for i in range(n):\n",
    "        offset = np.random.random() * max_offset\n",
    "        rv = gamma(offset,scale = np.random.random()/2)\n",
    "       # mul = mul_range[0] + np.random.random() * (mul_range[1] - mul_range[0])\n",
    "        mul = np.linspace(mul_range[0], mul_range[1], num=50)\n",
    "      #  arr = rv.pdf(mul)\n",
    "        arr = rv.cdf(mul)\n",
    "        \n",
    "        \n",
    "        vectors.append(\n",
    "             (offset + x_vals)* -2 + 1\n",
    "#               (offset + x_vals * -mul)** 2 + 1\n",
    "        )\n",
    "    return np.array(vectors)\n",
    "\n",
    "from pylab import rcParams\n",
    "rcParams['figure.figsize'] = 10, 8\n",
    "n=1000\n",
    "# Generate 5 random curves using the function above\n",
    "data=generate_data(n)\n",
    "print(data.shape)\n",
    "data0=pd.DataFrame(data)\n",
    "ax = data0.head().T.plot()\n",
    "data0.head()"
   ]
  },
  {
   "cell_type": "code",
   "execution_count": 3,
   "id": "883cc625",
   "metadata": {},
   "outputs": [
    {
     "name": "stdout",
     "output_type": "stream",
     "text": [
      "Model: \"model\"\n",
      "_________________________________________________________________\n",
      "Layer (type)                 Output Shape              Param #   \n",
      "=================================================================\n",
      "input_1 (InputLayer)         [(None, 10)]              0         \n",
      "_________________________________________________________________\n",
      "dense (Dense)                (None, 200)               2200      \n",
      "_________________________________________________________________\n",
      "activation (Activation)      (None, 200)               0         \n",
      "_________________________________________________________________\n",
      "dense_1 (Dense)              (None, 50)                10050     \n",
      "=================================================================\n",
      "Total params: 12,250\n",
      "Trainable params: 12,250\n",
      "Non-trainable params: 0\n",
      "_________________________________________________________________\n"
     ]
    }
   ],
   "source": [
    "def generator(G_in, dense_dim=200, out_dim=50, lr=1e-3):\n",
    "    x = Dense(dense_dim)(G_in)\n",
    "    x = Activation('tanh')(x)\n",
    "    G_out = Dense(out_dim, activation='tanh')(x)\n",
    "    G = Model(G_in, G_out)\n",
    "    opt = SGD(lr=lr)\n",
    "    G.compile(loss='binary_crossentropy', optimizer=opt)\n",
    "    return G, G_out\n",
    "\n",
    "G_in = Input(shape=[10])\n",
    "G, G_out = generator(G_in)\n",
    "G.summary()"
   ]
  },
  {
   "cell_type": "code",
   "execution_count": 4,
   "id": "5316121f",
   "metadata": {},
   "outputs": [],
   "source": [
    "#SVG(model_to_dot(G, show_layer_names=False, show_shapes=True).create(prog='dot', format='svg'))"
   ]
  },
  {
   "cell_type": "code",
   "execution_count": 5,
   "id": "4fbedd91",
   "metadata": {},
   "outputs": [
    {
     "name": "stdout",
     "output_type": "stream",
     "text": [
      "Model: \"model_1\"\n",
      "_________________________________________________________________\n",
      "Layer (type)                 Output Shape              Param #   \n",
      "=================================================================\n",
      "input_2 (InputLayer)         [(None, 50)]              0         \n",
      "_________________________________________________________________\n",
      "reshape (Reshape)            (None, 50, 1)             0         \n",
      "_________________________________________________________________\n",
      "conv1d (Conv1D)              (None, 46, 50)            300       \n",
      "_________________________________________________________________\n",
      "dropout (Dropout)            (None, 46, 50)            0         \n",
      "_________________________________________________________________\n",
      "flatten (Flatten)            (None, 2300)              0         \n",
      "_________________________________________________________________\n",
      "dense_2 (Dense)              (None, 50)                115050    \n",
      "_________________________________________________________________\n",
      "dense_3 (Dense)              (None, 2)                 102       \n",
      "=================================================================\n",
      "Total params: 115,452\n",
      "Trainable params: 115,452\n",
      "Non-trainable params: 0\n",
      "_________________________________________________________________\n"
     ]
    }
   ],
   "source": [
    "# Build the discriminator network \n",
    "def discriminator(D_in, lr=1e-3, drate=.25, n_channels=50, conv_sz=5, leak=.2):\n",
    "    x = Reshape((-1, 1))(D_in)\n",
    "    x = Conv1D(n_channels, conv_sz, activation='relu')(x)\n",
    "    x = Dropout(drate)(x)\n",
    "    x = Flatten()(x)\n",
    "    x = Dense(n_channels)(x)\n",
    "    D_out = Dense(2, activation='sigmoid')(x)\n",
    "    D = Model(D_in, D_out)\n",
    "    dopt = Adam(lr=lr)\n",
    "    D.compile(loss='binary_crossentropy', optimizer=dopt)\n",
    "    return D, D_out\n",
    "\n",
    "D_in = Input(shape=[50])\n",
    "D, D_out = discriminator(D_in)\n",
    "D.summary()"
   ]
  },
  {
   "cell_type": "code",
   "execution_count": 6,
   "id": "88d31cf8",
   "metadata": {},
   "outputs": [],
   "source": [
    "#SVG(model_to_dot(D, show_layer_names=False, show_shapes=True).create(prog='dot', format='svg'))"
   ]
  },
  {
   "cell_type": "code",
   "execution_count": 7,
   "id": "af1f3437",
   "metadata": {},
   "outputs": [],
   "source": [
    "def set_trainability(model, trainable=False):\n",
    "    model.trainable = trainable\n",
    "    for layer in model.layers:\n",
    "        layer.trainable = trainable\n"
   ]
  },
  {
   "cell_type": "code",
   "execution_count": 8,
   "id": "04280ae8",
   "metadata": {},
   "outputs": [
    {
     "name": "stdout",
     "output_type": "stream",
     "text": [
      "Model: \"model_2\"\n",
      "_________________________________________________________________\n",
      "Layer (type)                 Output Shape              Param #   \n",
      "=================================================================\n",
      "input_3 (InputLayer)         [(None, 10)]              0         \n",
      "_________________________________________________________________\n",
      "model (Functional)           (None, 50)                12250     \n",
      "_________________________________________________________________\n",
      "model_1 (Functional)         (None, 2)                 115452    \n",
      "=================================================================\n",
      "Total params: 127,702\n",
      "Trainable params: 12,250\n",
      "Non-trainable params: 115,452\n",
      "_________________________________________________________________\n"
     ]
    }
   ],
   "source": [
    "# Build the final GAN architecture \n",
    "def build_gan(GAN_in, G, D):\n",
    "    set_trainability(D, False)\n",
    "    x = G(GAN_in)\n",
    "    GAN_out = D(x)\n",
    "    GAN = Model(GAN_in, GAN_out)\n",
    "    GAN.compile(loss='binary_crossentropy', optimizer=G.optimizer)\n",
    "    return GAN, GAN_out\n",
    "\n",
    "GAN_in = Input([10])\n",
    "GAN, GAN_out = build_gan(GAN_in, G, D)\n",
    "GAN.summary()"
   ]
  },
  {
   "cell_type": "code",
   "execution_count": 9,
   "id": "cdd5a217",
   "metadata": {},
   "outputs": [
    {
     "name": "stdout",
     "output_type": "stream",
     "text": [
      "32/32 [==============================] - 2s 13ms/step - loss: 2.6104\n"
     ]
    }
   ],
   "source": [
    "\n",
    "\n",
    "def sample_data_and_gen(G, noise_dim=10, n_samples=n//2):\n",
    "    random_indices = np.random.choice(n, size=n//2, replace=False)\n",
    "    #XT = sample_data(n_samples=n_samples)\n",
    "    XT=data[random_indices,:]\n",
    "    #print(np.asarray(XT).shape)\n",
    "    XN_noise = np.random.uniform(0, 1, size=[n_samples, noise_dim])\n",
    "  \n",
    "    XN = G.predict(XN_noise)\n",
    "    #print(np.asarray(XN).shape)\n",
    "    X = np.concatenate((XT, XN))\n",
    "    y = np.zeros((2*n_samples, 2))\n",
    "    y[:n_samples, 1] = 1\n",
    "    y[n_samples:, 0] = 1\n",
    "    return X, y\n",
    "\n",
    "# Pretrain the discriminator network for a single epoch\n",
    "def pretrain(G, D, noise_dim=10, n_samples=n//2, batch_size=32):\n",
    "    ep = 1\n",
    "    X, y = sample_data_and_gen(G, n_samples=n_samples, noise_dim=noise_dim)\n",
    "    set_trainability(D, True)\n",
    "    D.fit(X, y, epochs=ep, batch_size=batch_size)\n",
    "\n",
    "pretrain(G, D)"
   ]
  },
  {
   "cell_type": "code",
   "execution_count": 10,
   "id": "6a450af3",
   "metadata": {},
   "outputs": [
    {
     "name": "stderr",
     "output_type": "stream",
     "text": [
      "<ipython-input-10-b6b16e80f65d>:13: TqdmDeprecationWarning: This function will be removed in tqdm==5.0.0\n",
      "Please use `tqdm.notebook.tqdm` instead of `tqdm.tqdm_notebook`\n",
      "  e_range = tqdm(e_range)\n"
     ]
    },
    {
     "data": {
      "application/vnd.jupyter.widget-view+json": {
       "model_id": "5d0236687d1247d5878a9a6805cfd265",
       "version_major": 2,
       "version_minor": 0
      },
      "text/plain": [
       "  0%|          | 0/500 [00:00<?, ?it/s]"
      ]
     },
     "metadata": {},
     "output_type": "display_data"
    },
    {
     "name": "stdout",
     "output_type": "stream",
     "text": [
      "Epoch #50: Generative Loss: 6.699344158172607, Discriminative Loss: 0.000741034047678113\n",
      "Epoch #100: Generative Loss: 7.765579700469971, Discriminative Loss: 0.00023281840549316257\n",
      "Epoch #150: Generative Loss: 8.165346145629883, Discriminative Loss: 0.0001634123473195359\n",
      "Epoch #200: Generative Loss: 7.72772216796875, Discriminative Loss: 0.00022076748427934945\n",
      "Epoch #250: Generative Loss: 9.153358459472656, Discriminative Loss: 6.187500548548996e-05\n",
      "Epoch #300: Generative Loss: 9.291274070739746, Discriminative Loss: 5.3151208703638986e-05\n",
      "Epoch #350: Generative Loss: 9.53339958190918, Discriminative Loss: 4.135234485147521e-05\n",
      "Epoch #400: Generative Loss: 9.813222885131836, Discriminative Loss: 6.967249646550044e-05\n",
      "Epoch #450: Generative Loss: 9.962246894836426, Discriminative Loss: 2.6476771381567232e-05\n",
      "Epoch #500: Generative Loss: 10.098001480102539, Discriminative Loss: 2.3351401978288777e-05\n"
     ]
    }
   ],
   "source": [
    "def sample_noise(G, noise_dim=10, n_samples=n/2):\n",
    "    X = np.random.uniform(0, 1, size=[n_samples, noise_dim])\n",
    "    y = np.zeros((n_samples, 2))\n",
    "    y[:, 1] = 1\n",
    "    return X, y\n",
    "\n",
    "def train(GAN, G, D, epochs=500, n_samples=n//2, noise_dim=10, batch_size=32, verbose=False, v_freq=50):\n",
    "    # initialize loss arrays\n",
    "    d_loss = []\n",
    "    g_loss = []\n",
    "    e_range = range(epochs)\n",
    "    if verbose:\n",
    "        e_range = tqdm(e_range)\n",
    "    for epoch in e_range:\n",
    "        X, y = sample_data_and_gen(G, n_samples=n_samples, noise_dim=noise_dim)\n",
    "        set_trainability(D, True)\n",
    "        d_loss.append(D.train_on_batch(X, y))\n",
    "\n",
    "        X, y = sample_noise(G, n_samples=n_samples, noise_dim=noise_dim)\n",
    "        set_trainability(D, False)\n",
    "        g_loss.append(GAN.train_on_batch(X, y))\n",
    "        if verbose and (epoch + 1) % v_freq == 0:\n",
    "            print(\"Epoch #{}: Generative Loss: {}, Discriminative Loss: {}\".format(epoch + 1, g_loss[-1], d_loss[-1]))\n",
    "    return d_loss, g_loss\n",
    "\n",
    "d_loss, g_loss = train(GAN, G, D, verbose=True)\n"
   ]
  },
  {
   "cell_type": "code",
   "execution_count": 11,
   "id": "346dacb7",
   "metadata": {},
   "outputs": [
    {
     "data": {
      "text/plain": [
       "Text(0, 0.5, 'Loss')"
      ]
     },
     "execution_count": 11,
     "metadata": {},
     "output_type": "execute_result"
    },
    {
     "data": {
      "image/png": "[encoded data removed]",
      "text/plain": [
       "<Figure size 720x576 with 1 Axes>"
      ]
     },
     "metadata": {},
     "output_type": "display_data"
    }
   ],
   "source": [
    "ax = pd.DataFrame({\n",
    "        'Generative Loss': g_loss,\n",
    "        'Discriminative Loss': d_loss,\n",
    "    }).plot(title='Training loss', logy=True)\n",
    "\n",
    "ax.set_xlabel(\"Epochs\")\n",
    "ax.set_ylabel(\"Loss\")"
   ]
  },
  {
   "cell_type": "code",
   "execution_count": 12,
   "id": "ece28c2c",
   "metadata": {},
   "outputs": [
    {
     "data": {
      "text/plain": [
       "<AxesSubplot:>"
      ]
     },
     "execution_count": 12,
     "metadata": {},
     "output_type": "execute_result"
    },
    {
     "data": {
      "image/png": "[encoded data removed]",
      "text/plain": [
       "<Figure size 720x576 with 1 Axes>"
      ]
     },
     "metadata": {},
     "output_type": "display_data"
    }
   ],
   "source": [
    "N_VIEWED_SAMPLES = 2\n",
    "data_and_gen, _ = sample_data_and_gen(G, n_samples=N_VIEWED_SAMPLES)\n",
    "pd.DataFrame(np.transpose(data_and_gen[N_VIEWED_SAMPLES:10])).plot()"
   ]
  },
  {
   "cell_type": "code",
   "execution_count": null,
   "id": "70d42961",
   "metadata": {},
   "outputs": [],
   "source": []
  }
 ],
 "metadata": {
  "kernelspec": {
   "display_name": "Python 3 (ipykernel)",
   "language": "python",
   "name": "python3"
  },
  "language_info": {
   "codemirror_mode": {
    "name": "ipython",
    "version": 3
   },
   "file_extension": ".py",
   "mimetype": "text/x-python",
   "name": "python",
   "nbconvert_exporter": "python",
   "pygments_lexer": "ipython3",
   "version": "3.9.7"
  }
 },
 "nbformat": 4,
 "nbformat_minor": 5
}
